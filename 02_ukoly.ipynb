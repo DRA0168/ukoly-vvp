{
 "cells": [
  {
   "attachments": {},
   "cell_type": "markdown",
   "metadata": {},
   "source": [
    "# Prostory jmen a obor platnosti proměnných:\n",
    "- Upravte funkci nalézající prvočísla tak, aby ukládala již spočítané prvočísla do listu v defaultním argumentu funkce. \n"
   ]
  },
  {
   "cell_type": "code",
   "execution_count": 100,
   "metadata": {},
   "outputs": [
    {
     "data": {
      "text/plain": [
       "[2, 3, 5, 7, 11, 13, 17, 19, 23, 29]"
      ]
     },
     "execution_count": 100,
     "metadata": {},
     "output_type": "execute_result"
    }
   ],
   "source": [
    "def najdi_prvocisla(n, prvocisla=[]):\n",
    "    prvocisla = [2]\n",
    "    i = prvocisla[-1]\n",
    "    while len(prvocisla) < n:\n",
    "        i += 1\n",
    "        for prvocislo in prvocisla:\n",
    "            if i % prvocislo == 0:\n",
    "                break\n",
    "        else:\n",
    "            prvocisla.append(i)\n",
    "    return prvocisla\n",
    "\n",
    "najdi_prvocisla (10)"
   ]
  },
  {
   "attachments": {},
   "cell_type": "markdown",
   "metadata": {},
   "source": [
    "\n",
    "# Jupyter magics:\n",
    "- použijte funkci %%writefile a pomocí ní (a kopie funkcí z posledního DU) vytvořte .py soubor sloužící jako modul mající tři funkce viz minulý DU\n",
    "- Použijte magic příkazy %time %timeit %%time a %%timeit k měření času běhu různých částí kódu (například funkcí z minulého DU).\n"
   ]
  },
  {
   "cell_type": "code",
   "execution_count": 77,
   "metadata": {},
   "outputs": [
    {
     "name": "stdout",
     "output_type": "stream",
     "text": [
      "Overwriting test.txt\n"
     ]
    }
   ],
   "source": [
    "%%writefile test.txt\n",
    "def aproximace_odmocniny (cislo, n):\n",
    "    if cislo==0: return \"0\"\n",
    "    if cislo<0:  return \"ne\"\n",
    "\n",
    "    aproximace = cislo\n",
    "    for i in range (n):\n",
    "        aproximace = ((cislo/aproximace)+aproximace)/2\n",
    "    return aproximace\n",
    "\n",
    "def rekurzni_faktorial (n):\n",
    "    if n < 0:\n",
    "        return \"nee\"\n",
    "    if n == 1:\n",
    "        return n\n",
    "    else:\n",
    "        return n*rekurzni_faktorial(n-1)\n",
    "\n",
    "def aproximovani(n):\n",
    "    if n <= 0: return 0\n",
    "    a = 1 #ramena\n",
    "    b = 1 #zakladna\n",
    "    for i in range (n):\n",
    "        v = aproximace_odmocniny (a**2 - (b/2)**2, 100)\n",
    "        n = 6 * 2**i * b * (v/2)\n",
    "        b = aproximace_odmocniny ((b/2)**2 + (1-v)**2, 100)\n",
    "        \n",
    "    return n\n",
    "\n"
   ]
  },
  {
   "cell_type": "code",
   "execution_count": 87,
   "metadata": {},
   "outputs": [
    {
     "name": "stdout",
     "output_type": "stream",
     "text": [
      "CPU times: user 15 µs, sys: 0 ns, total: 15 µs\n",
      "Wall time: 21.2 µs\n",
      "CPU times: user 15 µs, sys: 0 ns, total: 15 µs\n",
      "Wall time: 20.3 µs\n",
      "CPU times: user 345 µs, sys: 0 ns, total: 345 µs\n",
      "Wall time: 353 µs\n",
      "1.36 µs ± 58.8 ns per loop (mean ± std. dev. of 7 runs, 1,000,000 loops each)\n",
      "1.9 µs ± 316 ns per loop (mean ± std. dev. of 7 runs, 1,000,000 loops each)\n",
      "234 µs ± 57.2 µs per loop (mean ± std. dev. of 7 runs, 1,000 loops each)\n"
     ]
    }
   ],
   "source": [
    "%time aproximace_odmocniny(9,10)\n",
    "%time rekurzni_faktorial(10)\n",
    "%time aproximovani(10)\n",
    "\n",
    "%timeit aproximace_odmocniny(9,10)\n",
    "%timeit rekurzni_faktorial(10)\n",
    "%timeit aproximovani(10)"
   ]
  },
  {
   "cell_type": "code",
   "execution_count": 99,
   "metadata": {},
   "outputs": [
    {
     "name": "stdout",
     "output_type": "stream",
     "text": [
      "CPU times: user 10 µs, sys: 0 ns, total: 10 µs\n",
      "Wall time: 13.8 µs\n"
     ]
    },
    {
     "data": {
      "text/plain": [
       "3.0"
      ]
     },
     "execution_count": 99,
     "metadata": {},
     "output_type": "execute_result"
    }
   ],
   "source": [
    "%%time \n",
    "aproximace_odmocniny(9,10)"
   ]
  },
  {
   "cell_type": "code",
   "execution_count": 98,
   "metadata": {},
   "outputs": [
    {
     "name": "stdout",
     "output_type": "stream",
     "text": [
      "1.41 µs ± 120 ns per loop (mean ± std. dev. of 7 runs, 1,000,000 loops each)\n"
     ]
    }
   ],
   "source": [
    "%%timeit \n",
    "aproximace_odmocniny(9,10)"
   ]
  },
  {
   "cell_type": "markdown",
   "metadata": {},
   "source": [
    "\n",
    "# Práce s řetězci:\n",
    "\n",
    "- Použíjte funkce z minulého úkolu a v cyklu spočtěte $\\pi$ s různým $n$. Pomocí f-strings vypište výsledky ve formátu \"n = 5, pi = 3.14159, počet správných cifer = 5\".\n"
   ]
  },
  {
   "cell_type": "code",
   "execution_count": 27,
   "metadata": {},
   "outputs": [
    {
     "name": "stdout",
     "output_type": "stream",
     "text": [
      "n= 5, pi=3.13935020304686762671053656958974897861480712890625, počet správných cifer=2\n",
      "n= 6, pi=3.14103195089051023813908614101819694042205810546875, počet správných cifer=3\n",
      "n= 7, pi=3.14145247228546242723723480594344437122344970703125, počet správných cifer=3\n",
      "n= 8, pi=3.14155760791185745262055206694640219211578369140625, počet správných cifer=4\n",
      "n= 9, pi=3.1415838921483185686156502924859523773193359375, počet správných cifer=5\n",
      "n= 10, pi=3.141590463228050023047899230732582509517669677734375, počet správných cifer=5\n",
      "n= 11, pi=3.1415921059992708563868291093967854976654052734375, počet správných cifer=6\n",
      "n= 12, pi=3.141592516692157222024661678005941212177276611328125, počet správných cifer=6\n",
      "n= 13, pi=3.141592619365383587393125708331353962421417236328125, počet správných cifer=7\n",
      "n= 14, pi=3.14159264503369062282445156597532331943511962890625, počet správných cifer=8\n"
     ]
    }
   ],
   "source": [
    "import numpy as np \n",
    "import math\n",
    "from decimal import getcontext, Decimal as D\n",
    "getcontext().prec = 100 # počítáme s 100 desetinnými místy\n",
    "pi_1000d = D(\"3.141592653589793238462643383279\\\n",
    "5028841971693993\\\n",
    "7510582097494459230781640628620899862803482534\\\n",
    "2117067982148086513282306647093844609550582231\\\n",
    "7253594081284811174502841027019385211055596446\\\n",
    "2294895493038196442881097566593344612847564823\\\n",
    "3786783165271201909145648566923460348610454326\\\n",
    "6482133936072602491412737245870066063155881748\\\n",
    "8152092096282925409171536436789259036001133053\\\n",
    "0548820466521384146951941511609433057270365759\\\n",
    "5919530921861173819326117931051185480744623799\\\n",
    "6274956735188575272489122793818301194912983367\\\n",
    "3362440656643086021394946395224737190702179860\\\n",
    "9437027705392171762931767523846748184676694051\\\n",
    "3200056812714526356082778577134275778960917363\\\n",
    "7178721468440901224953430146549585371050792279\\\n",
    "6892589235420199561121290219608640344181598136\\\n",
    "2977477130996051870721134999999837297804995105\\\n",
    "9731732816096318595024459455346908302642522308\\\n",
    "2533446850352619311881710100031378387528865875\\\n",
    "3320838142061717766914730359825349042875546873\\\n",
    "1159562863882353787593751957781857780532171226\\\n",
    "806613001927876611195909216420199\")\n",
    "\n",
    "def aproximace_odmocniny (cislo, n):\n",
    "    if cislo==0: return \"0\"\n",
    "    if cislo<0:  return \"ne\"\n",
    "\n",
    "    aproximace = cislo\n",
    "    for i in range (n):\n",
    "        aproximace = ((cislo/aproximace)+aproximace)/2\n",
    "    return aproximace\n",
    "\n",
    "def aproximovani (n):\n",
    "    \n",
    "    if n <= 0: return 0\n",
    "    a = 1 #ramena\n",
    "    b = 1 #zakladna\n",
    "    for i in range (n):\n",
    "        v = aproximace_odmocniny (a**2 - (b/2)**2, 100)\n",
    "        aproximace = 6 * 2**i * b * (v/2)\n",
    "        b = aproximace_odmocniny ((b/2)**2 + (1-v)**2, 100)\n",
    "        \n",
    "    return aproximace\n",
    "\n",
    "m=15\n",
    "for n in range (5, m):\n",
    "    pi_aprox = D(aproximovani(n))\n",
    "    spravne_cifry=(math.floor(-math.log10(pi_1000d - pi_aprox))) #pocet cifer neni urcen presne kvuli zaokrouhlovani\n",
    "    print(f\"n= {n}, pi={pi_aprox}, počet správných cifer={spravne_cifry}\")\n",
    "\n",
    "\n",
    "\n"
   ]
  },
  {
   "cell_type": "markdown",
   "metadata": {},
   "source": [
    "\n",
    "# Generátory a iterátory:\n",
    "\n",
    "- Napište generátor (funkci), který vytváří Fibonacciho posloupnost a vrátí prvních $n$ členů.\n"
   ]
  },
  {
   "cell_type": "code",
   "execution_count": 28,
   "metadata": {},
   "outputs": [
    {
     "name": "stdout",
     "output_type": "stream",
     "text": [
      "1\n",
      "1\n",
      "2\n",
      "3\n",
      "5\n",
      "8\n",
      "13\n",
      "21\n",
      "34\n",
      "55\n",
      "89\n",
      "144\n"
     ]
    }
   ],
   "source": [
    "def Fib (m):\n",
    "    a=1\n",
    "    b=1\n",
    "    print (a)\n",
    "    print (b)\n",
    "    for i in range (m-2):\n",
    "        c=a+b\n",
    "        a=b\n",
    "        b=c\n",
    "        print (c)\n",
    "\n",
    "Fib (12)"
   ]
  },
  {
   "cell_type": "markdown",
   "metadata": {},
   "source": [
    "\n",
    "# List comprehension:\n",
    "- Vytvořte seznam čísel od 1 do 10 pomocí list comprehension.\n",
    "- Vytvořte seznam druhých mocnin čísel od 1 do 10 pomocí list comprehension.\n",
    "- Vytvořte seznam prvočísel od 1 do 100 pomocí list comprehension. Hint (použijte funkci all() na generátor testující dělitelnost).\n"
   ]
  },
  {
   "cell_type": "code",
   "execution_count": 29,
   "metadata": {},
   "outputs": [
    {
     "name": "stdout",
     "output_type": "stream",
     "text": [
      "[1, 2, 3, 4, 5, 6, 7, 8, 9, 10]\n",
      "[1, 4, 9, 16, 25, 36, 49, 64, 81, 100]\n",
      "[2, 3, 5, 7, 11, 13, 17, 19, 23, 29, 31, 37, 41, 43, 47, 53, 59, 61, 67, 71, 73, 79, 83, 89, 97]\n"
     ]
    }
   ],
   "source": [
    "print([i for i in range(1, 11)])\n",
    "print([i**2 for i in range(1,11)])\n",
    "print([i for i in range(2, 101) if all(i % j != 0 for j in range(2, int(i ** 0.5) + 1))])"
   ]
  },
  {
   "cell_type": "markdown",
   "metadata": {},
   "source": [
    "\n",
    "# Práce se soubory:\n",
    "- Pomocí %%writefile vytvořte soubor s nějakým textem.\n",
    "- Otevřete soubor pro čtení a vypište jeho obsah.\n",
    "- Otevřete jiný soubor pro zápis a napište do něj textový řetězec.\n",
    "- Pomocí f-strings zapište do souboru tabulku čísel od 1 do 10, jejich druhých mocnin a jejich druhých odmocnin."
   ]
  },
  {
   "cell_type": "code",
   "execution_count": 30,
   "metadata": {},
   "outputs": [
    {
     "name": "stdout",
     "output_type": "stream",
     "text": [
      "Overwriting test.txt\n"
     ]
    }
   ],
   "source": [
    "%%writefile test.txt\n",
    "whatever1\n",
    "whatever2\n"
   ]
  },
  {
   "cell_type": "code",
   "execution_count": 31,
   "metadata": {},
   "outputs": [
    {
     "name": "stdout",
     "output_type": "stream",
     "text": [
      "whatever1\n",
      "whatever2\n",
      "\n"
     ]
    }
   ],
   "source": [
    "soubor = open(\"test.txt\", \"r\")\n",
    "\n",
    "print(soubor.read())\n",
    "soubor.close()"
   ]
  },
  {
   "cell_type": "code",
   "execution_count": 32,
   "metadata": {},
   "outputs": [
    {
     "name": "stdout",
     "output_type": "stream",
     "text": [
      "čislo, mocnina, odmocnina \n",
      "1, 1, 1.0 \n",
      "2, 4, 1.4142135623730951 \n",
      "3, 9, 1.7320508075688772 \n",
      "4, 16, 2.0 \n",
      "5, 25, 2.23606797749979 \n",
      "6, 36, 2.449489742783178 \n",
      "7, 49, 2.6457513110645907 \n",
      "8, 64, 2.8284271247461903 \n",
      "9, 81, 3.0 \n",
      "10, 100, 3.1622776601683795 \n"
     ]
    }
   ],
   "source": [
    "with open(\"mocniny.csv\", \"w\", newline=\"\") as soubor:\n",
    "    soubor.write(\"čislo, mocnina, odmocnina \\n\")\n",
    "    for i in range(1, 11):\n",
    "        soubor.write(f\"{i}, {i*i}, {i**0.5} \\n\")\n",
    "\n",
    "%less mocniny.csv"
   ]
  },
  {
   "attachments": {},
   "cell_type": "markdown",
   "metadata": {},
   "source": [
    "# Domácí úkol:\n",
    "Pomocí vlastních tříd a dědičnosti vytvořte \"soubor tříd\" = nástroj pro derivaci funkcí.\n",
    "\n",
    "Konkrétněji:\n",
    "- Vytvořte třídu **Operator**\n",
    "    - Třída bude mít metody:\n",
    "        - `__init__()` - inicializuje operátor (zde stačí `pass`)\n",
    "        - `__str__()` - vrací řetězec reprezentující operátor\n",
    "        - `__repr__()` - vrací řetězec reprezentující operátor\n",
    "- Vytvořte třídu **BinaryOperator**, která bude dědit od třídy Operator\n",
    "    - Třída bude mít atributy:\n",
    "        - `levy_argument` - levý operand\n",
    "        - `pravy_argument` - pravý operand\n",
    "    - Třída bude mít metody:\n",
    "        - `__init__()` - inicializuje operátor, přiřadí argumenty\n",
    "        - `__str__()` - vrací řetězec reprezentující operátor\n",
    "        - `__repr__()` - vrací řetězec reprezentující operátor\n",
    "        - `diff()` - vrací derivaci operátoru\n",
    "- Vytvořte třídu **UnaryOperator**, která bude dědit od třídy Operator\n",
    "    - Třída bude mít atributy:\n",
    "        - `argument` - argument funkce \n",
    "    - Třída bude mít metody:\n",
    "        - `__init__()` - inicializuje operátor, přiřadí argument\n",
    "        - `__str__()` - vrací řetězec reprezentující operátor\n",
    "        - `__repr__()` - vrací řetězec reprezentující operátor\n",
    "        - `diff()` - vrací derivaci operátoru\n",
    "\n",
    "Pro počítání derivací použijte standardní pravidla:\n",
    "- derivace součtu je součet derivací\n",
    "- pravidlo pro derivaci součinu\n",
    "- derivace funkce je derivovaná funkce násobená derivovaným argumentem\n",
    "\n",
    "Pro **BinaryOperator** a **UnaryOperator** implementujte také metody implementující standardní operátory:\n",
    "- `__add__()` - implementuje operátor `+`\n",
    "- `__sub__()` - implementuje operátor `-`\n",
    "- `__mul__()` - implementuje operátor `*`\n",
    "\n",
    "Pro **BinaryOperator** implementujte dvě dceřiné třídy:\n",
    "- **Addition** - implementuje operátor `+`\n",
    "- **Multiplication** - implementuje operátor `*`\n",
    "\n",
    "Pro **UnaryOperator** implementujte tyto dceřiné třídy:\n",
    "- **exp** - implementuje funkci `exp`\n",
    "- **sin** - implementuje funkci `sin`\n",
    "- **cos** - implementuje funkci `cos`\n",
    "- **ln** - implementuje funkci `ln`\n",
    "- **frc** - implementuje funkci `1/x`\n",
    "- **identity** - implementuje identitu `x`\n",
    "- **cst** - implementuje konstantu `c`\n",
    "- **mocnina** - implementuje mocninu `x^n`\n",
    "\n",
    "U všech funckí implementujte adekvátně metodu `diff()` a `__str__()`, tak aby se funkce vypisovaly v přehledné podobě.\n",
    "\n",
    "Ozkoušejte na následujících funkcích:\n",
    "- $sin(x + cos(x*x)) + 1$\n",
    "- $x^2 + 2x + 1 + 2x^2$\n",
    "- $x^2 + 2x + exp(x)$"
   ]
  },
  {
   "cell_type": "code",
   "execution_count": 197,
   "metadata": {},
   "outputs": [],
   "source": [
    "# kostra k doplnění, místa označená TODO doplňte\n",
    "\n",
    "class Opertor:\n",
    "    def __init__(self):\n",
    "        pass\n",
    "    \n",
    "    def __str__(self):\n",
    "        return (self)\n",
    "    \n",
    "    def __repr__(self):\n",
    "        return self.__str__()\n",
    "    \n",
    "    def diff(self):\n",
    "        pass\n",
    "    \n",
    "    def __add__(self, other):\n",
    "        return Addition(self, other)\n",
    "    \n",
    "    def __sub__(self, other):\n",
    "        return Addition(self, Multiplication(-1, other))\n",
    "    \n",
    "    def __mul__(self, other):\n",
    "        return Multiplication(self, other)\n",
    "    \n",
    "class BinaryOperator(Opertor):\n",
    "    def __init__(self, levy_argument, pravy_argument):\n",
    "        self.levy_argument = levy_argument\n",
    "        self.pravy_argument = pravy_argument\n",
    "        \n",
    "class UnaryOperator(Opertor):\n",
    "    def __init__(self, argument):\n",
    "        self.argument = argument\n",
    "        \n",
    "class Addition(BinaryOperator):\n",
    "    def __str__(self):\n",
    "        return (f\"({self.levy_argument}) + ({self.pravy_argument})\")\n",
    "        # TODO vypíšeme něco jako (levy_argument)+(pravy_argument)\n",
    "    def diff(self):\n",
    "        return f\"{self.levy_argument.diff()} + {self.pravy_argument.diff()}\"\n",
    "    \n",
    "class Multiplication(BinaryOperator):\n",
    "    def __str__(self):\n",
    "        return (f\"({self.levy_argument})* ({self.pravy_argument})\")\n",
    "        # TODO vypíšeme něco jako (levy_argument)*(pravy_argument)\n",
    "    def diff(self):\n",
    "        return f\"{Addition(Multiplication(self.levy_argument.diff(), self.pravy_argument), Multiplication(self.levy_argument, self.pravy_argument.diff()))}\"\n",
    "        \n",
    "    \n",
    "class cst(UnaryOperator):\n",
    "    def __init__(self, value):\n",
    "        self.value = value\n",
    "    def __str__(self):\n",
    "        return (f\"{self.value}\")\n",
    "    def diff(self):\n",
    "        return \"0\"\n",
    "    \n",
    "class identity(UnaryOperator):\n",
    "    def __init__(self):\n",
    "        pass\n",
    "    def __str__(self):\n",
    "        return \"x\"\n",
    "    def diff(self):\n",
    "        return \"1\"\n",
    "    \n",
    "class mocnina(UnaryOperator):\n",
    "    def __init__(self, argument, exponent):\n",
    "        self.argument = argument\n",
    "        self.exponent = exponent\n",
    "    def __str__(self):\n",
    "        return (f\"{self.argument}^{self.exponent}\")\n",
    "    def diff(self):\n",
    "        return (f\"{Multiplication(self.exponent, mocnina(self.argument, self.exponent-1))}\")\n",
    "    \n",
    "class sin(UnaryOperator):\n",
    "    def __str__(self):\n",
    "        return (f\"sin({self.argument}\")\n",
    "    def diff(self):\n",
    "        return (f\"{Multiplication(cos(self.argument), self.argument.diff())}\")\n",
    "    \n",
    "class cos(UnaryOperator):\n",
    "    def __str__(self):\n",
    "        return (f\"cos({self.argument})\")\n",
    "    def diff(self):\n",
    "        return (f\"{Multiplication(Multiplication(sin(self.argument), -1), self.argument.diff())}\")\n",
    "\n",
    "class exp(UnaryOperator):\n",
    "    def __str__(self):\n",
    "        return (f\"exp({self.argument})\")\n",
    "    def diff(self):\n",
    "        return (f\"{Multiplication(self.argument.diff(), exp(self.argument))}\")\n",
    "    \n",
    "class ln(UnaryOperator):\n",
    "    def diff(self):\n",
    "        return (f\"{ln({self.argument})}\")\n",
    "\n",
    "class frc(UnaryOperator):\n",
    "    def __str__(self):\n",
    "        return (f\"1/{self}\")\n",
    "        # TODO vypíšeme něco jako 1/(argument)\n",
    "    def diff(self):\n",
    "        return (f\"{Multiplication(frc(cst(-1)), Multiplication(self.argument.diff(), mocnina(self, cst(-2))))}\")"
   ]
  },
  {
   "cell_type": "code",
   "execution_count": 198,
   "metadata": {},
   "outputs": [
    {
     "name": "stdout",
     "output_type": "stream",
     "text": [
      "(sin((x) + (cos((x)* (x)))) + (1)\n",
      "(cos((x) + (cos((x)* (x)))))* (1 + ((sin((x)* (x))* (-1))* (((1)* (x)) + ((x)* (1)))) + 0\n"
     ]
    }
   ],
   "source": [
    "# takto by se to mělo používat\n",
    "x = identity()\n",
    "# sin(x + cos(x*x)) + 1\n",
    "f1 = sin(x + cos(x*x)) + cst(1)\n",
    "print(f1)\n",
    "print(f1.diff())"
   ]
  },
  {
   "attachments": {},
   "cell_type": "markdown",
   "metadata": {},
   "source": [
    "můj výstup byl:\n",
    "\n",
    "`sin(x + cos((x)*(x))) + 1`\n",
    "\n",
    "`(cos(x + cos((x)*(x))))*(1 + ((-1)*(sin((x)*(x))))*((1)*(x) + (x)*(1))) + 0`"
   ]
  },
  {
   "cell_type": "code",
   "execution_count": 199,
   "metadata": {},
   "outputs": [
    {
     "name": "stdout",
     "output_type": "stream",
     "text": [
      "(((x^2) + ((2)* (x))) + (1)) + ((2)* (x^2))\n",
      "(2)* (x^1) + ((0)* (x)) + ((2)* (1)) + 0 + ((0)* (x^2)) + ((2)* ((2)* (x^1)))\n"
     ]
    }
   ],
   "source": [
    "x = identity()\n",
    "# x ^ 2 + 2x + 1 + 2x ^ 2\n",
    "f2 = mocnina(x,2) + cst(2)*x + cst(1) + cst(2)*mocnina(x,2)\n",
    "print(f2)\n",
    "print(f2.diff())\n"
   ]
  },
  {
   "attachments": {},
   "cell_type": "markdown",
   "metadata": {},
   "source": [
    "můj výstup byl:\n",
    "\n",
    "`(x)^2 + (2)*(x) + 1 + (2)*((x)^2)`\n",
    "\n",
    "`((2)*((x)^1))*(1) + (0)*(x) + (2)*(1) + 0 + (0)*((x)^2) + (2)*(((2)*((x)^1))*(1))`"
   ]
  },
  {
   "cell_type": "code",
   "execution_count": 200,
   "metadata": {},
   "outputs": [
    {
     "name": "stdout",
     "output_type": "stream",
     "text": [
      "((x^2) + ((2)* (x))) + (exp(x))\n",
      "(2)* (x^1) + ((0)* (x)) + ((2)* (1)) + (1)* (exp(x))\n"
     ]
    }
   ],
   "source": [
    "x = identity()\n",
    "# x ^ 2 + 2x + exp(x)\n",
    "f3 = mocnina(x,2) + cst(2)*x + exp(x)\n",
    "print(f3)\n",
    "print(f3.diff())\n"
   ]
  },
  {
   "attachments": {},
   "cell_type": "markdown",
   "metadata": {},
   "source": [
    "můj výstup byl:\n",
    "\n",
    "`(x)^2 + (2)*(x) + exp(x)`\n",
    "\n",
    "`((2)*((x)^1))*(1) + (0)*(x) + (2)*(1) + (exp(x))*(1)`\n"
   ]
  },
  {
   "attachments": {},
   "cell_type": "markdown",
   "metadata": {},
   "source": [
    "# Bonusový úkol:\n",
    "Doplňte ke všem třídám metodu `simplify()`, která provede zjednodušení výrazu. Například:\n",
    "- součet s nulou vrátí druhý operand\n",
    "- součin s nulou vrátí nulu\n",
    "- mocnina s exponentem 0 vrátí 1\n",
    "- mocnina s exponentem 1 vrátí první argument\n",
    "- součín dvou stejných argumentů vrátí mocninu s exponentem 2\n",
    "- součin konstant vrátí konstantu se součinem\n",
    "- ..."
   ]
  },
  {
   "cell_type": "markdown",
   "metadata": {},
   "source": []
  }
 ],
 "metadata": {
  "kernelspec": {
   "display_name": "Python 3",
   "language": "python",
   "name": "python3"
  },
  "language_info": {
   "codemirror_mode": {
    "name": "ipython",
    "version": 3
   },
   "file_extension": ".py",
   "mimetype": "text/x-python",
   "name": "python",
   "nbconvert_exporter": "python",
   "pygments_lexer": "ipython3",
   "version": "3.8.10"
  },
  "orig_nbformat": 4,
  "vscode": {
   "interpreter": {
    "hash": "e7370f93d1d0cde622a1f8e1c04877d8463912d04d973331ad4851f04de6915a"
   }
  }
 },
 "nbformat": 4,
 "nbformat_minor": 2
}
